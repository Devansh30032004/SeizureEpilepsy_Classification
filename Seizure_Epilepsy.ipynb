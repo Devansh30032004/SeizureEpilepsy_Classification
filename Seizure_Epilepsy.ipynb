{
  "cells": [
    {
      "cell_type": "markdown",
      "metadata": {
        "id": "view-in-github",
        "colab_type": "text"
      },
      "source": [
        "<a href=\"https://colab.research.google.com/github/Devansh30032004/SeizureEpilepsy_Classification/blob/main/Seizure_Epilepsy.ipynb\" target=\"_parent\"><img src=\"https://colab.research.google.com/assets/colab-badge.svg\" alt=\"Open In Colab\"/></a>"
      ]
    },
    {
      "cell_type": "code",
      "source": [
        "# Remove all Qiskit-related packages\n",
        "!pip uninstall -y qiskit qiskit-machine-learning qiskit-aer qiskit-ibmq-provider qiskit-algorithms qiskit-terra qiskit-experiments\n",
        "\n",
        "# Clear pip cache\n",
        "!pip cache purge"
      ],
      "metadata": {
        "colab": {
          "base_uri": "https://localhost:8080/"
        },
        "id": "iHGnCSEyH4Yj",
        "outputId": "65c62f15-203d-433b-a367-f22609d3ef6f"
      },
      "execution_count": null,
      "outputs": [
        {
          "output_type": "stream",
          "name": "stdout",
          "text": [
            "Found existing installation: qiskit 1.0.2\n",
            "Uninstalling qiskit-1.0.2:\n",
            "  Successfully uninstalled qiskit-1.0.2\n",
            "Found existing installation: qiskit-machine-learning 0.7.1\n",
            "Uninstalling qiskit-machine-learning-0.7.1:\n",
            "  Successfully uninstalled qiskit-machine-learning-0.7.1\n",
            "Found existing installation: qiskit-aer 0.13.1\n",
            "Uninstalling qiskit-aer-0.13.1:\n",
            "  Successfully uninstalled qiskit-aer-0.13.1\n",
            "\u001b[33mWARNING: Skipping qiskit-ibmq-provider as it is not installed.\u001b[0m\u001b[33m\n",
            "\u001b[0mFound existing installation: qiskit-algorithms 0.3.1\n",
            "Uninstalling qiskit-algorithms-0.3.1:\n",
            "  Successfully uninstalled qiskit-algorithms-0.3.1\n",
            "\u001b[33mWARNING: Skipping qiskit-terra as it is not installed.\u001b[0m\u001b[33m\n",
            "\u001b[0m\u001b[33mWARNING: Skipping qiskit-experiments as it is not installed.\u001b[0m\u001b[33m\n",
            "\u001b[0mFiles removed: 146\n"
          ]
        }
      ]
    },
    {
      "cell_type": "code",
      "source": [
        "!pip install \"qiskit==1.0.2\" \\\n",
        "            \"qiskit-machine-learning==0.7.1\" \\\n",
        "            \"qiskit-aer==0.13.1\" \\\n",
        "            \"scikit-learn==1.3.2\" \\\n",
        "            \"numpy==1.23.5\""
      ],
      "metadata": {
        "colab": {
          "base_uri": "https://localhost:8080/"
        },
        "id": "C0_mTKUvH6TJ",
        "outputId": "0db5ae4b-26bb-4f80-c3cc-09584cab8feb"
      },
      "execution_count": null,
      "outputs": [
        {
          "output_type": "stream",
          "name": "stdout",
          "text": [
            "Collecting qiskit==1.0.2\n",
            "  Downloading qiskit-1.0.2-cp38-abi3-manylinux_2_17_x86_64.manylinux2014_x86_64.whl.metadata (12 kB)\n",
            "Collecting qiskit-machine-learning==0.7.1\n",
            "  Downloading qiskit_machine_learning-0.7.1-py3-none-any.whl.metadata (12 kB)\n",
            "Collecting qiskit-aer==0.13.1\n",
            "  Downloading qiskit_aer-0.13.1-cp311-cp311-manylinux_2_17_x86_64.manylinux2014_x86_64.whl.metadata (6.1 kB)\n",
            "Requirement already satisfied: scikit-learn==1.3.2 in /usr/local/lib/python3.11/dist-packages (1.3.2)\n",
            "Requirement already satisfied: numpy==1.23.5 in /usr/local/lib/python3.11/dist-packages (1.23.5)\n",
            "Requirement already satisfied: rustworkx>=0.14.0 in /usr/local/lib/python3.11/dist-packages (from qiskit==1.0.2) (0.16.0)\n",
            "Requirement already satisfied: scipy>=1.5 in /usr/local/lib/python3.11/dist-packages (from qiskit==1.0.2) (1.11.0)\n",
            "Requirement already satisfied: sympy>=1.3 in /usr/local/lib/python3.11/dist-packages (from qiskit==1.0.2) (1.13.1)\n",
            "Requirement already satisfied: dill>=0.3 in /usr/local/lib/python3.11/dist-packages (from qiskit==1.0.2) (0.3.9)\n",
            "Requirement already satisfied: python-dateutil>=2.8.0 in /usr/local/lib/python3.11/dist-packages (from qiskit==1.0.2) (2.8.2)\n",
            "Requirement already satisfied: stevedore>=3.0.0 in /usr/local/lib/python3.11/dist-packages (from qiskit==1.0.2) (5.4.1)\n",
            "Requirement already satisfied: typing-extensions in /usr/local/lib/python3.11/dist-packages (from qiskit==1.0.2) (4.5.0)\n",
            "Requirement already satisfied: symengine>=0.11 in /usr/local/lib/python3.11/dist-packages (from qiskit==1.0.2) (0.14.0)\n",
            "Collecting qiskit-algorithms>=0.2.0 (from qiskit-machine-learning==0.7.1)\n",
            "  Downloading qiskit_algorithms-0.3.1-py3-none-any.whl.metadata (4.2 kB)\n",
            "Requirement already satisfied: psutil>=5 in /usr/local/lib/python3.11/dist-packages (from qiskit-machine-learning==0.7.1) (5.9.5)\n",
            "Requirement already satisfied: fastdtw in /usr/local/lib/python3.11/dist-packages (from qiskit-machine-learning==0.7.1) (0.3.4)\n",
            "Requirement already satisfied: setuptools>=40.1.0 in /usr/local/lib/python3.11/dist-packages (from qiskit-machine-learning==0.7.1) (75.2.0)\n",
            "Requirement already satisfied: joblib>=1.1.1 in /usr/local/lib/python3.11/dist-packages (from scikit-learn==1.3.2) (1.4.2)\n",
            "Requirement already satisfied: threadpoolctl>=2.0.0 in /usr/local/lib/python3.11/dist-packages (from scikit-learn==1.3.2) (3.6.0)\n",
            "Requirement already satisfied: six>=1.5 in /usr/local/lib/python3.11/dist-packages (from python-dateutil>=2.8.0->qiskit==1.0.2) (1.17.0)\n",
            "Requirement already satisfied: pbr>=2.0.0 in /usr/local/lib/python3.11/dist-packages (from stevedore>=3.0.0->qiskit==1.0.2) (6.1.1)\n",
            "Requirement already satisfied: mpmath<1.4,>=1.1.0 in /usr/local/lib/python3.11/dist-packages (from sympy>=1.3->qiskit==1.0.2) (1.3.0)\n",
            "Downloading qiskit-1.0.2-cp38-abi3-manylinux_2_17_x86_64.manylinux2014_x86_64.whl (5.6 MB)\n",
            "\u001b[2K   \u001b[90m━━━━━━━━━━━━━━━━━━━━━━━━━━━━━━━━━━━━━━━━\u001b[0m \u001b[32m5.6/5.6 MB\u001b[0m \u001b[31m16.0 MB/s\u001b[0m eta \u001b[36m0:00:00\u001b[0m\n",
            "\u001b[?25hDownloading qiskit_machine_learning-0.7.1-py3-none-any.whl (96 kB)\n",
            "\u001b[2K   \u001b[90m━━━━━━━━━━━━━━━━━━━━━━━━━━━━━━━━━━━━━━━━\u001b[0m \u001b[32m96.8/96.8 kB\u001b[0m \u001b[31m7.9 MB/s\u001b[0m eta \u001b[36m0:00:00\u001b[0m\n",
            "\u001b[?25hDownloading qiskit_aer-0.13.1-cp311-cp311-manylinux_2_17_x86_64.manylinux2014_x86_64.whl (12.3 MB)\n",
            "\u001b[2K   \u001b[90m━━━━━━━━━━━━━━━━━━━━━━━━━━━━━━━━━━━━━━━━\u001b[0m \u001b[32m12.3/12.3 MB\u001b[0m \u001b[31m34.3 MB/s\u001b[0m eta \u001b[36m0:00:00\u001b[0m\n",
            "\u001b[?25hDownloading qiskit_algorithms-0.3.1-py3-none-any.whl (310 kB)\n",
            "\u001b[2K   \u001b[90m━━━━━━━━━━━━━━━━━━━━━━━━━━━━━━━━━━━━━━━━\u001b[0m \u001b[32m310.5/310.5 kB\u001b[0m \u001b[31m20.5 MB/s\u001b[0m eta \u001b[36m0:00:00\u001b[0m\n",
            "\u001b[?25hInstalling collected packages: qiskit, qiskit-algorithms, qiskit-aer, qiskit-machine-learning\n",
            "Successfully installed qiskit-1.0.2 qiskit-aer-0.13.1 qiskit-algorithms-0.3.1 qiskit-machine-learning-0.7.1\n"
          ]
        }
      ]
    },
    {
      "cell_type": "code",
      "source": [
        "!pip list | grep \"qiskit\\|scikit-learn\""
      ],
      "metadata": {
        "colab": {
          "base_uri": "https://localhost:8080/"
        },
        "id": "HCIW2yzhH8l9",
        "outputId": "bf7c4ca3-a795-4302-8978-0f45c17e949e"
      },
      "execution_count": null,
      "outputs": [
        {
          "output_type": "stream",
          "name": "stdout",
          "text": [
            "qiskit                             1.0.2\n",
            "qiskit-aer                         0.13.1\n",
            "qiskit-algorithms                  0.3.1\n",
            "qiskit-machine-learning            0.7.1\n",
            "scikit-learn                       1.3.2\n"
          ]
        }
      ]
    },
    {
      "cell_type": "code",
      "source": [
        "!pip install \\\n",
        "  \"numpy==1.23.5\" \\\n",
        "  \"scikit-learn==1.3.2\" \\\n",
        "  \"tensorflow==2.12.1\" \\\n",
        "  \"scipy==1.11.0\" \\\n",
        "  \"matplotlib==3.7.2\""
      ],
      "metadata": {
        "colab": {
          "base_uri": "https://localhost:8080/"
        },
        "id": "fw0SOshiIAxT",
        "outputId": "11a81044-c45c-42b6-88ac-542d94f0c1c5"
      },
      "execution_count": null,
      "outputs": [
        {
          "output_type": "stream",
          "name": "stdout",
          "text": [
            "Requirement already satisfied: numpy==1.23.5 in /usr/local/lib/python3.11/dist-packages (1.23.5)\n",
            "Requirement already satisfied: scikit-learn==1.3.2 in /usr/local/lib/python3.11/dist-packages (1.3.2)\n",
            "Requirement already satisfied: tensorflow==2.12.1 in /usr/local/lib/python3.11/dist-packages (2.12.1)\n",
            "Requirement already satisfied: scipy==1.11.0 in /usr/local/lib/python3.11/dist-packages (1.11.0)\n",
            "Requirement already satisfied: matplotlib==3.7.2 in /usr/local/lib/python3.11/dist-packages (3.7.2)\n",
            "Requirement already satisfied: joblib>=1.1.1 in /usr/local/lib/python3.11/dist-packages (from scikit-learn==1.3.2) (1.4.2)\n",
            "Requirement already satisfied: threadpoolctl>=2.0.0 in /usr/local/lib/python3.11/dist-packages (from scikit-learn==1.3.2) (3.6.0)\n",
            "Requirement already satisfied: absl-py>=1.0.0 in /usr/local/lib/python3.11/dist-packages (from tensorflow==2.12.1) (1.4.0)\n",
            "Requirement already satisfied: astunparse>=1.6.0 in /usr/local/lib/python3.11/dist-packages (from tensorflow==2.12.1) (1.6.3)\n",
            "Requirement already satisfied: flatbuffers>=2.0 in /usr/local/lib/python3.11/dist-packages (from tensorflow==2.12.1) (25.2.10)\n",
            "Requirement already satisfied: gast<=0.4.0,>=0.2.1 in /usr/local/lib/python3.11/dist-packages (from tensorflow==2.12.1) (0.4.0)\n",
            "Requirement already satisfied: google-pasta>=0.1.1 in /usr/local/lib/python3.11/dist-packages (from tensorflow==2.12.1) (0.2.0)\n",
            "Requirement already satisfied: grpcio<2.0,>=1.24.3 in /usr/local/lib/python3.11/dist-packages (from tensorflow==2.12.1) (1.71.0)\n",
            "Requirement already satisfied: h5py>=2.9.0 in /usr/local/lib/python3.11/dist-packages (from tensorflow==2.12.1) (3.13.0)\n",
            "Requirement already satisfied: jax>=0.3.15 in /usr/local/lib/python3.11/dist-packages (from tensorflow==2.12.1) (0.4.30)\n",
            "Requirement already satisfied: keras<2.13,>=2.12.0 in /usr/local/lib/python3.11/dist-packages (from tensorflow==2.12.1) (2.12.0)\n",
            "Requirement already satisfied: libclang>=13.0.0 in /usr/local/lib/python3.11/dist-packages (from tensorflow==2.12.1) (18.1.1)\n",
            "Requirement already satisfied: opt-einsum>=2.3.2 in /usr/local/lib/python3.11/dist-packages (from tensorflow==2.12.1) (3.4.0)\n",
            "Requirement already satisfied: packaging in /usr/local/lib/python3.11/dist-packages (from tensorflow==2.12.1) (24.2)\n",
            "Requirement already satisfied: protobuf!=4.21.0,!=4.21.1,!=4.21.2,!=4.21.3,!=4.21.4,!=4.21.5,<5.0.0dev,>=3.20.3 in /usr/local/lib/python3.11/dist-packages (from tensorflow==2.12.1) (4.25.6)\n",
            "Requirement already satisfied: setuptools in /usr/local/lib/python3.11/dist-packages (from tensorflow==2.12.1) (75.2.0)\n",
            "Requirement already satisfied: six>=1.12.0 in /usr/local/lib/python3.11/dist-packages (from tensorflow==2.12.1) (1.17.0)\n",
            "Requirement already satisfied: tensorboard<2.13,>=2.12 in /usr/local/lib/python3.11/dist-packages (from tensorflow==2.12.1) (2.12.3)\n",
            "Requirement already satisfied: tensorflow-estimator<2.13,>=2.12.0 in /usr/local/lib/python3.11/dist-packages (from tensorflow==2.12.1) (2.12.0)\n",
            "Requirement already satisfied: termcolor>=1.1.0 in /usr/local/lib/python3.11/dist-packages (from tensorflow==2.12.1) (3.0.1)\n",
            "Requirement already satisfied: typing-extensions<4.6.0,>=3.6.6 in /usr/local/lib/python3.11/dist-packages (from tensorflow==2.12.1) (4.5.0)\n",
            "Requirement already satisfied: wrapt<1.15,>=1.11.0 in /usr/local/lib/python3.11/dist-packages (from tensorflow==2.12.1) (1.14.1)\n",
            "Requirement already satisfied: tensorflow-io-gcs-filesystem>=0.23.1 in /usr/local/lib/python3.11/dist-packages (from tensorflow==2.12.1) (0.37.1)\n",
            "Requirement already satisfied: contourpy>=1.0.1 in /usr/local/lib/python3.11/dist-packages (from matplotlib==3.7.2) (1.3.1)\n",
            "Requirement already satisfied: cycler>=0.10 in /usr/local/lib/python3.11/dist-packages (from matplotlib==3.7.2) (0.12.1)\n",
            "Requirement already satisfied: fonttools>=4.22.0 in /usr/local/lib/python3.11/dist-packages (from matplotlib==3.7.2) (4.56.0)\n",
            "Requirement already satisfied: kiwisolver>=1.0.1 in /usr/local/lib/python3.11/dist-packages (from matplotlib==3.7.2) (1.4.8)\n",
            "Requirement already satisfied: pillow>=6.2.0 in /usr/local/lib/python3.11/dist-packages (from matplotlib==3.7.2) (11.1.0)\n",
            "Requirement already satisfied: pyparsing<3.1,>=2.3.1 in /usr/local/lib/python3.11/dist-packages (from matplotlib==3.7.2) (3.0.9)\n",
            "Requirement already satisfied: python-dateutil>=2.7 in /usr/local/lib/python3.11/dist-packages (from matplotlib==3.7.2) (2.8.2)\n",
            "Requirement already satisfied: wheel<1.0,>=0.23.0 in /usr/local/lib/python3.11/dist-packages (from astunparse>=1.6.0->tensorflow==2.12.1) (0.45.1)\n",
            "Requirement already satisfied: jaxlib<=0.4.30,>=0.4.27 in /usr/local/lib/python3.11/dist-packages (from jax>=0.3.15->tensorflow==2.12.1) (0.4.30)\n",
            "Requirement already satisfied: ml-dtypes>=0.2.0 in /usr/local/lib/python3.11/dist-packages (from jax>=0.3.15->tensorflow==2.12.1) (0.4.1)\n",
            "Requirement already satisfied: google-auth<3,>=1.6.3 in /usr/local/lib/python3.11/dist-packages (from tensorboard<2.13,>=2.12->tensorflow==2.12.1) (2.38.0)\n",
            "Requirement already satisfied: google-auth-oauthlib<1.1,>=0.5 in /usr/local/lib/python3.11/dist-packages (from tensorboard<2.13,>=2.12->tensorflow==2.12.1) (1.0.0)\n",
            "Requirement already satisfied: markdown>=2.6.8 in /usr/local/lib/python3.11/dist-packages (from tensorboard<2.13,>=2.12->tensorflow==2.12.1) (3.7)\n",
            "Requirement already satisfied: requests<3,>=2.21.0 in /usr/local/lib/python3.11/dist-packages (from tensorboard<2.13,>=2.12->tensorflow==2.12.1) (2.32.3)\n",
            "Requirement already satisfied: tensorboard-data-server<0.8.0,>=0.7.0 in /usr/local/lib/python3.11/dist-packages (from tensorboard<2.13,>=2.12->tensorflow==2.12.1) (0.7.2)\n",
            "Requirement already satisfied: werkzeug>=1.0.1 in /usr/local/lib/python3.11/dist-packages (from tensorboard<2.13,>=2.12->tensorflow==2.12.1) (3.1.3)\n",
            "Requirement already satisfied: cachetools<6.0,>=2.0.0 in /usr/local/lib/python3.11/dist-packages (from google-auth<3,>=1.6.3->tensorboard<2.13,>=2.12->tensorflow==2.12.1) (5.5.2)\n",
            "Requirement already satisfied: pyasn1-modules>=0.2.1 in /usr/local/lib/python3.11/dist-packages (from google-auth<3,>=1.6.3->tensorboard<2.13,>=2.12->tensorflow==2.12.1) (0.4.2)\n",
            "Requirement already satisfied: rsa<5,>=3.1.4 in /usr/local/lib/python3.11/dist-packages (from google-auth<3,>=1.6.3->tensorboard<2.13,>=2.12->tensorflow==2.12.1) (4.9)\n",
            "Requirement already satisfied: requests-oauthlib>=0.7.0 in /usr/local/lib/python3.11/dist-packages (from google-auth-oauthlib<1.1,>=0.5->tensorboard<2.13,>=2.12->tensorflow==2.12.1) (2.0.0)\n",
            "Requirement already satisfied: charset-normalizer<4,>=2 in /usr/local/lib/python3.11/dist-packages (from requests<3,>=2.21.0->tensorboard<2.13,>=2.12->tensorflow==2.12.1) (3.4.1)\n",
            "Requirement already satisfied: idna<4,>=2.5 in /usr/local/lib/python3.11/dist-packages (from requests<3,>=2.21.0->tensorboard<2.13,>=2.12->tensorflow==2.12.1) (3.10)\n",
            "Requirement already satisfied: urllib3<3,>=1.21.1 in /usr/local/lib/python3.11/dist-packages (from requests<3,>=2.21.0->tensorboard<2.13,>=2.12->tensorflow==2.12.1) (2.3.0)\n",
            "Requirement already satisfied: certifi>=2017.4.17 in /usr/local/lib/python3.11/dist-packages (from requests<3,>=2.21.0->tensorboard<2.13,>=2.12->tensorflow==2.12.1) (2025.1.31)\n",
            "Requirement already satisfied: MarkupSafe>=2.1.1 in /usr/local/lib/python3.11/dist-packages (from werkzeug>=1.0.1->tensorboard<2.13,>=2.12->tensorflow==2.12.1) (3.0.2)\n",
            "Requirement already satisfied: pyasn1<0.7.0,>=0.6.1 in /usr/local/lib/python3.11/dist-packages (from pyasn1-modules>=0.2.1->google-auth<3,>=1.6.3->tensorboard<2.13,>=2.12->tensorflow==2.12.1) (0.6.1)\n",
            "Requirement already satisfied: oauthlib>=3.0.0 in /usr/local/lib/python3.11/dist-packages (from requests-oauthlib>=0.7.0->google-auth-oauthlib<1.1,>=0.5->tensorboard<2.13,>=2.12->tensorflow==2.12.1) (3.2.2)\n"
          ]
        }
      ]
    },
    {
      "cell_type": "code",
      "source": [
        "import numpy as np\n",
        "import tensorflow as tf\n",
        "import matplotlib.pyplot as plt\n",
        "import scipy.io\n",
        "from tensorflow import keras\n",
        "from keras import layers"
      ],
      "metadata": {
        "id": "ANg7BmteH_F2"
      },
      "execution_count": null,
      "outputs": []
    },
    {
      "cell_type": "code",
      "execution_count": null,
      "metadata": {
        "id": "dhnAo56Ra8yJ"
      },
      "outputs": [],
      "source": [
        "import json\n",
        "from IPython.display import clear_output\n",
        "from qiskit import QuantumCircuit\n",
        "from qiskit.circuit import ParameterVector\n",
        "from qiskit.circuit.library import ZFeatureMap\n",
        "from qiskit.quantum_info import SparsePauliOp\n",
        "from qiskit.primitives import Estimator\n",
        "from qiskit_algorithms.optimizers import COBYLA, NELDER_MEAD\n",
        "from qiskit_algorithms.utils import algorithm_globals\n",
        "from qiskit_machine_learning.algorithms.classifiers import NeuralNetworkClassifier\n",
        "from qiskit_machine_learning.neural_networks import EstimatorQNN\n",
        "from sklearn.model_selection import train_test_split\n",
        "\n",
        "algorithm_globals.random_seed = 12345\n",
        "estimator = Estimator()"
      ]
    },
    {
      "cell_type": "code",
      "execution_count": null,
      "metadata": {
        "colab": {
          "base_uri": "https://localhost:8080/"
        },
        "id": "Q-4ayd4obQP7",
        "outputId": "dd353621-5bb2-4315-ec14-b447f7fda4e8"
      },
      "outputs": [
        {
          "output_type": "stream",
          "name": "stdout",
          "text": [
            "Number of EEG signals: 100\n",
            "Shape of EEG signals: (100, 4097)\n"
          ]
        }
      ],
      "source": [
        "file_path = \"/content/seizureEEG.unknown\"  # Update this path\n",
        "\n",
        "with open(file_path, \"r\") as f:\n",
        "    raw_data = f.read()\n",
        "\n",
        "# Split the content based on spaces (ensuring to remove empty entries)\n",
        "segments = [segment.strip() for segment in raw_data.split() if segment]\n",
        "\n",
        "# Convert each segment (comma-separated values) into a NumPy array\n",
        "eeg_signals = [np.array(segment.split(','), dtype=np.float32) for segment in segments]\n",
        "\n",
        "# Stack signals into a 2D array if they all have the same length\n",
        "eeg_signals = np.vstack(eeg_signals) if len(set(map(len, eeg_signals))) == 1 else eeg_signals\n",
        "\n",
        "print(\"Number of EEG signals:\", len(eeg_signals))\n",
        "print(\"Shape of EEG signals:\", eeg_signals.shape if isinstance(eeg_signals, np.ndarray) else \"Varied lengths\")"
      ]
    },
    {
      "cell_type": "code",
      "execution_count": null,
      "metadata": {
        "colab": {
          "base_uri": "https://localhost:8080/"
        },
        "id": "_mevm2DqcpYN",
        "outputId": "dcb25cc2-9b48-469b-843b-0680aa6d20bb"
      },
      "outputs": [
        {
          "output_type": "stream",
          "name": "stdout",
          "text": [
            "Number of EEG signals: 100\n",
            "Shape of EEG signals: (100, 4097)\n"
          ]
        }
      ],
      "source": [
        "file_path = \"/content/seizureFreeEEG.unknown\"  # Update this path\n",
        "\n",
        "with open(file_path, \"r\") as f:\n",
        "    raw_data = f.read()\n",
        "\n",
        "# Split the content based on spaces (ensuring to remove empty entries)\n",
        "segments = [segment.strip() for segment in raw_data.split() if segment]\n",
        "\n",
        "# Convert each segment (comma-separated values) into a NumPy array\n",
        "eeg_freesignals = [np.array(segment.split(','), dtype=np.float32) for segment in segments]\n",
        "\n",
        "# Stack signals into a 2D array if they all have the same length\n",
        "eeg_freesignals = np.vstack(eeg_freesignals) if len(set(map(len, eeg_freesignals))) == 1 else eeg_freesignals\n",
        "\n",
        "print(\"Number of EEG signals:\", len(eeg_freesignals))\n",
        "print(\"Shape of EEG signals:\", eeg_freesignals.shape if isinstance(eeg_freesignals, np.ndarray) else \"Varied lengths\")"
      ]
    },
    {
      "cell_type": "code",
      "execution_count": null,
      "metadata": {
        "colab": {
          "base_uri": "https://localhost:8080/"
        },
        "id": "kZMsg2gucvAk",
        "outputId": "897a83c4-352b-4211-a026-0d1a0568645e"
      },
      "outputs": [
        {
          "output_type": "stream",
          "name": "stdout",
          "text": [
            "(200, 4097)\n",
            "(200,)\n"
          ]
        },
        {
          "output_type": "execute_result",
          "data": {
            "text/plain": [
              "(4097,)"
            ]
          },
          "metadata": {},
          "execution_count": 9
        }
      ],
      "source": [
        "eeg_signals = np.concatenate((eeg_signals, eeg_freesignals), axis=0)\n",
        "y1 = np.zeros(100, dtype=np.float32)\n",
        "y2 = np.ones(100, dtype=np.float32)\n",
        "y = np.concatenate((y2,y1))\n",
        "eeg_signals.reshape(200,4097,-1)\n",
        "y.reshape(200,1)\n",
        "print(eeg_signals.shape)\n",
        "print(y.shape)\n",
        "eeg_signals[0].shape"
      ]
    },
    {
      "cell_type": "code",
      "execution_count": null,
      "metadata": {
        "colab": {
          "base_uri": "https://localhost:8080/"
        },
        "id": "P7rXnRt6dFud",
        "outputId": "85f8478c-a6e1-4f11-90c2-4961c56f8d8f"
      },
      "outputs": [
        {
          "output_type": "stream",
          "name": "stdout",
          "text": [
            "Cropped EEG Data Shape: (25000, 100)\n",
            "Updated Labels Shape: (25000,)\n"
          ]
        }
      ],
      "source": [
        "def crop_eeg2(signal, window_size=100, stride=32):\n",
        "    \"\"\"\n",
        "    Crops EEG signals into overlapping windows.\n",
        "\n",
        "    Parameters:\n",
        "    - signal: (Channels, Timepoints) NumPy array.\n",
        "    - window_size: Length of each cropped segment.\n",
        "    - stride: Overlap step size.\n",
        "\n",
        "    Returns:\n",
        "    - Cropped EEG segments as NumPy array.\n",
        "    \"\"\"\n",
        "    total_samples = signal.shape\n",
        "    total_sample = int(total_samples[0])\n",
        "    #print(num_channels, total_samples)\n",
        "    cropped_segments = []\n",
        "\n",
        "    for start in range(0, total_sample - window_size + 1, stride):\n",
        "        end = start + window_size\n",
        "        cropped_segments.append(signal[start:end])\n",
        "\n",
        "    return np.array(cropped_segments)  # Shape: (Num_Segments, Channels, Window_Size)\n",
        "\n",
        "# Apply cropping to entire dataset\n",
        "cropped_X1, cropped_y1 = [], []\n",
        "\n",
        "window_size = 100  # Crop length\n",
        "stride = 32  # Overlap step\n",
        "\n",
        "for i in range(len(eeg_signals)):\n",
        "    cropped_segments = crop_eeg2(eeg_signals[i], window_size, stride)\n",
        "    cropped_X1.extend(cropped_segments)  # Add all cropped segments\n",
        "    cropped_y1.extend([y[i]] * len(cropped_segments))  # Repeat label\n",
        "\n",
        "cropped_X = np.array(cropped_X1)\n",
        "cropped_y = np.array(cropped_y1)\n",
        "\n",
        "print(\"Cropped EEG Data Shape:\", cropped_X.shape)  # Expected: (Num_segments, Channels, Window_Size)\n",
        "print(\"Updated Labels Shape:\", cropped_y.shape)  # Expected: (Num_segments,)"
      ]
    },
    {
      "cell_type": "code",
      "execution_count": null,
      "metadata": {
        "id": "2ZI1hvuweCil",
        "colab": {
          "base_uri": "https://localhost:8080/"
        },
        "outputId": "82d64eb8-19e2-4b6c-df66-70ae7489fc78"
      },
      "outputs": [
        {
          "output_type": "stream",
          "name": "stdout",
          "text": [
            "(17500, 100)\n",
            "(7500, 100)\n",
            "(17500,)\n",
            "(7500,)\n"
          ]
        }
      ],
      "source": [
        "from sklearn.model_selection import train_test_split\n",
        "X_train, X_test, y_train, y_test = train_test_split(cropped_X, cropped_y, test_size=0.3, random_state=42)\n",
        "print(X_train.shape)\n",
        "print(X_test.shape)\n",
        "print(y_train.shape)\n",
        "print(y_test.shape)"
      ]
    },
    {
      "cell_type": "code",
      "execution_count": null,
      "metadata": {
        "id": "nMPwCRmSfY5f"
      },
      "outputs": [],
      "source": [
        "def conv_circuit(params):\n",
        "    target = QuantumCircuit(2)\n",
        "    target.rz(-np.pi / 2, 1)\n",
        "    target.cx(1, 0)\n",
        "    target.rz(params[0], 0)\n",
        "    target.ry(params[1], 1)\n",
        "    target.cx(0, 1)\n",
        "    target.ry(params[2], 1)\n",
        "    target.cx(1, 0)\n",
        "    target.rz(np.pi / 2, 0)\n",
        "    return target"
      ]
    },
    {
      "cell_type": "code",
      "execution_count": null,
      "metadata": {
        "id": "GPtydPFzfcsM"
      },
      "outputs": [],
      "source": [
        "def conv_layer(num_qubits, param_prefix):\n",
        "    qc = QuantumCircuit(num_qubits, name=\"Convolutional Layer\")\n",
        "    qubits = list(range(num_qubits))\n",
        "    param_index = 0\n",
        "    params = ParameterVector(param_prefix, length=num_qubits * 3)\n",
        "    for q1, q2 in zip(qubits[0::2], qubits[1::2]):\n",
        "        qc = qc.compose(conv_circuit(params[param_index : (param_index + 3)]), [q1, q2])\n",
        "        qc.barrier()\n",
        "        param_index += 3\n",
        "    for q1, q2 in zip(qubits[1::2], qubits[2::2] + [0]):\n",
        "        qc = qc.compose(conv_circuit(params[param_index : (param_index + 3)]), [q1, q2])\n",
        "        qc.barrier()\n",
        "        param_index += 3\n",
        "\n",
        "    qc_inst = qc.to_instruction()\n",
        "\n",
        "    qc = QuantumCircuit(num_qubits)\n",
        "    qc.append(qc_inst, qubits)\n",
        "    return qc\n",
        "\n",
        "\n",
        "circuit = conv_layer(4, \"θ\")"
      ]
    },
    {
      "cell_type": "code",
      "execution_count": null,
      "metadata": {
        "id": "t3WkkHZbf2Oa"
      },
      "outputs": [],
      "source": [
        "def pool_circuit(params):\n",
        "    target = QuantumCircuit(2)\n",
        "    target.rz(-np.pi / 2, 1)\n",
        "    target.cx(1, 0)\n",
        "    target.rz(params[0], 0)\n",
        "    target.ry(params[1], 1)\n",
        "    target.cx(0, 1)\n",
        "    target.ry(params[2], 1)\n",
        "\n",
        "    return target\n",
        "\n",
        "\n",
        "params = ParameterVector(\"θ\", length=3)\n",
        "circuit = pool_circuit(params)"
      ]
    },
    {
      "cell_type": "code",
      "execution_count": null,
      "metadata": {
        "id": "qtZbzeLogtoA"
      },
      "outputs": [],
      "source": [
        "def pool_layer(sources, sinks, param_prefix):\n",
        "    num_qubits = len(sources) + len(sinks)\n",
        "    qc = QuantumCircuit(num_qubits, name=\"Pooling Layer\")\n",
        "    param_index = 0\n",
        "    params = ParameterVector(param_prefix, length=num_qubits // 2 * 3)\n",
        "    for source, sink in zip(sources, sinks):\n",
        "        qc = qc.compose(pool_circuit(params[param_index : (param_index + 3)]), [source, sink])\n",
        "        qc.barrier()\n",
        "        param_index += 3\n",
        "\n",
        "    qc_inst = qc.to_instruction()\n",
        "\n",
        "    qc = QuantumCircuit(num_qubits)\n",
        "    qc.append(qc_inst, range(num_qubits))\n",
        "    return qc\n",
        "\n",
        "\n",
        "sources = [0, 1]\n",
        "sinks = [2, 3]\n",
        "circuit = pool_layer(sources, sinks, \"θ\")"
      ]
    },
    {
      "cell_type": "code",
      "execution_count": null,
      "metadata": {
        "colab": {
          "base_uri": "https://localhost:8080/"
        },
        "id": "n_Rod7Jtgwrs",
        "outputId": "d20c5b74-ea23-4008-bac5-d67d8777a38a"
      },
      "outputs": [
        {
          "output_type": "stream",
          "name": "stdout",
          "text": [
            "8748\n"
          ]
        },
        {
          "output_type": "execute_result",
          "data": {
            "text/plain": [
              "3752"
            ]
          },
          "metadata": {},
          "execution_count": 16
        }
      ],
      "source": [
        "y_train[y_train == 0] = -1\n",
        "print(len(y_train[y_train == 1]))\n",
        "len(y_train[y_train == -1])\n",
        "y_test[y_test == 0] = -1\n",
        "len(y_test[y_test == 1])"
      ]
    },
    {
      "cell_type": "code",
      "execution_count": null,
      "metadata": {
        "id": "SwGTlHSjg0dg"
      },
      "outputs": [],
      "source": [
        "feature_map = ZFeatureMap(8)\n",
        "\n",
        "ansatz = QuantumCircuit(8, name=\"Ansatz\")\n",
        "\n",
        "# First Convolutional Layer\n",
        "ansatz.compose(conv_layer(8, \"c1\"), list(range(8)), inplace=True)\n",
        "\n",
        "# First Pooling Layer\n",
        "ansatz.compose(pool_layer([0, 1, 2, 3], [4, 5, 6, 7], \"p1\"), list(range(8)), inplace=True)\n",
        "\n",
        "# Second Convolutional Layer\n",
        "ansatz.compose(conv_layer(4, \"c2\"), list(range(4, 8)), inplace=True)\n",
        "\n",
        "# Second Pooling Layer\n",
        "ansatz.compose(pool_layer([0, 1], [2, 3], \"p2\"), list(range(4, 8)), inplace=True)\n",
        "\n",
        "# Third Convolutional Layer\n",
        "ansatz.compose(conv_layer(2, \"c3\"), list(range(6, 8)), inplace=True)\n",
        "\n",
        "# Third Pooling Layer\n",
        "ansatz.compose(pool_layer([0], [1], \"p3\"), list(range(6, 8)), inplace=True)\n",
        "\n",
        "# Combining the feature map and ansatz\n",
        "circuit = QuantumCircuit(8)\n",
        "circuit.compose(feature_map, range(8), inplace=True)\n",
        "circuit.compose(ansatz, range(8), inplace=True)\n",
        "\n",
        "observable = SparsePauliOp.from_list([(\"Z\" + \"I\" * 7, 1)])\n",
        "\n",
        "# we decompose the circuit for the QNN to avoid additional data copying\n",
        "qnn = EstimatorQNN(\n",
        "    circuit=circuit.decompose(),\n",
        "    observables=observable,\n",
        "    input_params=feature_map.parameters,\n",
        "    weight_params=ansatz.parameters,\n",
        "    estimator=estimator,\n",
        ")"
      ]
    },
    {
      "cell_type": "code",
      "execution_count": null,
      "metadata": {
        "id": "St7uLxtbg35a"
      },
      "outputs": [],
      "source": [
        "def callback_graph(weights, obj_func_eval):\n",
        "    clear_output(wait=True)\n",
        "    objective_func_vals.append(obj_func_eval)\n",
        "    plt.title(\"Objective function value against iteration\")\n",
        "    plt.xlabel(\"Iteration\")\n",
        "    plt.ylabel(\"Objective function value\")\n",
        "    plt.plot(range(len(objective_func_vals)), objective_func_vals)\n",
        "    plt.show()"
      ]
    },
    {
      "cell_type": "code",
      "execution_count": null,
      "metadata": {
        "id": "4RCzBg5UhAPC"
      },
      "outputs": [],
      "source": [
        "initial_point = np.zeros(63)\n",
        "classifier = NeuralNetworkClassifier(\n",
        "    qnn,\n",
        "    optimizer=COBYLA(maxiter=200),  # Set max iterations here\n",
        "    callback=callback_graph,\n",
        "    initial_point=initial_point\n",
        ")"
      ]
    },
    {
      "cell_type": "code",
      "execution_count": null,
      "metadata": {
        "id": "VYo_UsQ1hGQ5"
      },
      "outputs": [],
      "source": [
        "#from sklearn.preprocessing import MinMaxScaler\n",
        "#scaler = MinMaxScaler()\n",
        "#X_train1 = scaler.fit_transform(X_train)\n",
        "#X_test1 = scaler.transform(X_test)\n",
        "X_train = X_train/X_train.max()\n",
        "X_test = X_test/X_test.max()\n",
        "X_train1 = X_train.reshape(-1,100)\n",
        "X_test1 = X_test.reshape(-1,100)"
      ]
    },
    {
      "cell_type": "code",
      "execution_count": null,
      "metadata": {
        "colab": {
          "base_uri": "https://localhost:8080/"
        },
        "id": "6miE-C-bnoJS",
        "outputId": "3064170d-31f8-4afa-81bc-7a58aee49001"
      },
      "outputs": [
        {
          "output_type": "stream",
          "name": "stdout",
          "text": [
            "Epoch 1/50\n",
            "547/547 [==============================] - 3s 3ms/step - loss: 0.0252 - val_loss: 0.0143\n",
            "Epoch 2/50\n",
            "547/547 [==============================] - 3s 5ms/step - loss: 0.0138 - val_loss: 0.0142\n",
            "Epoch 3/50\n",
            "547/547 [==============================] - 2s 3ms/step - loss: 0.0137 - val_loss: 0.0141\n",
            "Epoch 4/50\n",
            "547/547 [==============================] - 2s 3ms/step - loss: 0.0136 - val_loss: 0.0140\n",
            "Epoch 5/50\n",
            "547/547 [==============================] - 2s 3ms/step - loss: 0.0134 - val_loss: 0.0137\n",
            "Epoch 6/50\n",
            "547/547 [==============================] - 2s 3ms/step - loss: 0.0131 - val_loss: 0.0134\n",
            "Epoch 7/50\n",
            "547/547 [==============================] - 2s 3ms/step - loss: 0.0128 - val_loss: 0.0132\n",
            "Epoch 8/50\n",
            "547/547 [==============================] - 2s 3ms/step - loss: 0.0127 - val_loss: 0.0130\n",
            "Epoch 9/50\n",
            "547/547 [==============================] - 3s 5ms/step - loss: 0.0124 - val_loss: 0.0128\n",
            "Epoch 10/50\n",
            "547/547 [==============================] - 2s 4ms/step - loss: 0.0123 - val_loss: 0.0127\n",
            "Epoch 11/50\n",
            "547/547 [==============================] - 2s 3ms/step - loss: 0.0122 - val_loss: 0.0126\n",
            "Epoch 12/50\n",
            "547/547 [==============================] - 2s 3ms/step - loss: 0.0121 - val_loss: 0.0125\n",
            "Epoch 13/50\n",
            "547/547 [==============================] - 2s 3ms/step - loss: 0.0120 - val_loss: 0.0124\n",
            "Epoch 14/50\n",
            "547/547 [==============================] - 2s 3ms/step - loss: 0.0119 - val_loss: 0.0123\n",
            "Epoch 15/50\n",
            "547/547 [==============================] - 2s 4ms/step - loss: 0.0118 - val_loss: 0.0121\n",
            "Epoch 16/50\n",
            "547/547 [==============================] - 3s 5ms/step - loss: 0.0116 - val_loss: 0.0120\n",
            "Epoch 17/50\n",
            "547/547 [==============================] - 2s 3ms/step - loss: 0.0115 - val_loss: 0.0119\n",
            "Epoch 18/50\n",
            "547/547 [==============================] - 2s 3ms/step - loss: 0.0114 - val_loss: 0.0118\n",
            "Epoch 19/50\n",
            "547/547 [==============================] - 2s 3ms/step - loss: 0.0113 - val_loss: 0.0117\n",
            "Epoch 20/50\n",
            "547/547 [==============================] - 2s 4ms/step - loss: 0.0112 - val_loss: 0.0116\n",
            "Epoch 21/50\n",
            "547/547 [==============================] - 2s 3ms/step - loss: 0.0112 - val_loss: 0.0116\n",
            "Epoch 22/50\n",
            "547/547 [==============================] - 3s 5ms/step - loss: 0.0111 - val_loss: 0.0115\n",
            "Epoch 23/50\n",
            "547/547 [==============================] - 2s 4ms/step - loss: 0.0111 - val_loss: 0.0115\n",
            "Epoch 24/50\n",
            "547/547 [==============================] - 2s 3ms/step - loss: 0.0110 - val_loss: 0.0115\n",
            "Epoch 25/50\n",
            "547/547 [==============================] - 2s 4ms/step - loss: 0.0110 - val_loss: 0.0114\n",
            "Epoch 26/50\n",
            "547/547 [==============================] - 2s 3ms/step - loss: 0.0109 - val_loss: 0.0113\n",
            "Epoch 27/50\n",
            "547/547 [==============================] - 2s 3ms/step - loss: 0.0109 - val_loss: 0.0113\n",
            "Epoch 28/50\n",
            "547/547 [==============================] - 3s 6ms/step - loss: 0.0109 - val_loss: 0.0113\n",
            "Epoch 29/50\n",
            "547/547 [==============================] - 2s 4ms/step - loss: 0.0108 - val_loss: 0.0112\n",
            "Epoch 30/50\n",
            "547/547 [==============================] - 2s 3ms/step - loss: 0.0108 - val_loss: 0.0112\n",
            "Epoch 31/50\n",
            "547/547 [==============================] - 2s 3ms/step - loss: 0.0108 - val_loss: 0.0112\n",
            "Epoch 32/50\n",
            "547/547 [==============================] - 2s 3ms/step - loss: 0.0107 - val_loss: 0.0111\n",
            "Epoch 33/50\n",
            "547/547 [==============================] - 2s 3ms/step - loss: 0.0107 - val_loss: 0.0111\n",
            "Epoch 34/50\n",
            "547/547 [==============================] - 2s 3ms/step - loss: 0.0106 - val_loss: 0.0110\n",
            "Epoch 35/50\n",
            "547/547 [==============================] - 2s 4ms/step - loss: 0.0106 - val_loss: 0.0110\n",
            "Epoch 36/50\n",
            "547/547 [==============================] - 2s 4ms/step - loss: 0.0105 - val_loss: 0.0109\n",
            "Epoch 37/50\n",
            "547/547 [==============================] - 2s 3ms/step - loss: 0.0105 - val_loss: 0.0109\n",
            "Epoch 38/50\n",
            "547/547 [==============================] - 2s 3ms/step - loss: 0.0105 - val_loss: 0.0109\n",
            "Epoch 39/50\n",
            "547/547 [==============================] - 2s 3ms/step - loss: 0.0104 - val_loss: 0.0108\n",
            "Epoch 40/50\n",
            "547/547 [==============================] - 2s 3ms/step - loss: 0.0104 - val_loss: 0.0108\n",
            "Epoch 41/50\n",
            "547/547 [==============================] - 2s 3ms/step - loss: 0.0104 - val_loss: 0.0108\n",
            "Epoch 42/50\n",
            "547/547 [==============================] - 3s 5ms/step - loss: 0.0104 - val_loss: 0.0108\n",
            "Epoch 43/50\n",
            "547/547 [==============================] - 2s 3ms/step - loss: 0.0104 - val_loss: 0.0107\n",
            "Epoch 44/50\n",
            "547/547 [==============================] - 2s 3ms/step - loss: 0.0103 - val_loss: 0.0107\n",
            "Epoch 45/50\n",
            "547/547 [==============================] - 2s 3ms/step - loss: 0.0103 - val_loss: 0.0107\n",
            "Epoch 46/50\n",
            "547/547 [==============================] - 3s 5ms/step - loss: 0.0103 - val_loss: 0.0107\n",
            "Epoch 47/50\n",
            "547/547 [==============================] - 2s 3ms/step - loss: 0.0103 - val_loss: 0.0107\n",
            "Epoch 48/50\n",
            "547/547 [==============================] - 2s 4ms/step - loss: 0.0103 - val_loss: 0.0107\n",
            "Epoch 49/50\n",
            "547/547 [==============================] - 2s 4ms/step - loss: 0.0102 - val_loss: 0.0107\n",
            "Epoch 50/50\n",
            "547/547 [==============================] - 2s 4ms/step - loss: 0.0102 - val_loss: 0.0106\n",
            "547/547 [==============================] - 1s 1ms/step\n",
            "235/235 [==============================] - 0s 1ms/step\n",
            "Original shape: (17500, 100)\n",
            "Reduced shape: (17500, 8)\n"
          ]
        }
      ],
      "source": [
        "# Elu & sigmoid\n",
        "input_dim = 100\n",
        "encoding_dim = 8  # Target dimensionality\n",
        "\n",
        "input_layer = keras.Input(shape=(input_dim,))\n",
        "encoded = layers.Dense(64, activation='elu')(input_layer)\n",
        "encoded = layers.Dense(32, activation='elu')(encoded)\n",
        "encoded = layers.Dense(16, activation='elu')(encoded)\n",
        "encoded = layers.Dense(encoding_dim, activation='sigmoid')(encoded)\n",
        "decoded = layers.Dense(16, activation='elu')(encoded)\n",
        "decoded = layers.Dense(32, activation='elu')(encoded)\n",
        "decoded = layers.Dense(64, activation='elu')(decoded)\n",
        "decoded = layers.Dense(input_dim, activation='sigmoid')(decoded)\n",
        "\n",
        "# Create the autoencoder model\n",
        "autoencoder2 = keras.Model(input_layer, decoded)\n",
        "autoencoder2.compile(optimizer='adam', loss='mse')\n",
        "\n",
        "# Train the autoencoder\n",
        "autoencoder2.fit(X_train1, X_train1, epochs=50, batch_size=32, validation_data=(X_test1, X_test1), verbose=1)\n",
        "\n",
        "# Create the encoder model\n",
        "encoder2 = keras.Model(input_layer, encoded)\n",
        "\n",
        "# Transform data to reduced dimensions\n",
        "X_train_encoded2 = encoder2.predict(X_train1)\n",
        "X_test_encoded2 = encoder2.predict(X_test1)\n",
        "\n",
        "print(\"Original shape:\", X_train.shape)\n",
        "print(\"Reduced shape:\", X_train_encoded2.shape)"
      ]
    },
    {
      "cell_type": "code",
      "execution_count": null,
      "metadata": {
        "colab": {
          "base_uri": "https://localhost:8080/"
        },
        "id": "d9-EeXWgTsMB",
        "outputId": "49ef3bd2-39fa-4ea6-e237-14aab1296843"
      },
      "outputs": [
        {
          "output_type": "stream",
          "name": "stdout",
          "text": [
            "[0.8017138  0.48730648 0.6737934  0.02329736 0.24203706 0.54952824\n",
            " 0.77366906 0.37730578]\n"
          ]
        },
        {
          "output_type": "execute_result",
          "data": {
            "text/plain": [
              "7500"
            ]
          },
          "metadata": {},
          "execution_count": 22
        }
      ],
      "source": [
        "print(X_train_encoded2[0])\n",
        "len(y_test)"
      ]
    },
    {
      "cell_type": "code",
      "source": [
        "x = np.asarray(X_train_encoded2[:6000])\n",
        "y = np.asarray(y_train[:6000])\n",
        "\n",
        "objective_func_vals = []\n",
        "plt.rcParams[\"figure.figsize\"] = (12, 6)\n",
        "classifier.fit(x, y)\n",
        "classifier.save('my_model.h5')\n",
        "# score classifier\n",
        "print(f\"Accuracy from the train data : {np.round(100 * classifier.score(x, y), 2)}%\")\n",
        "y_predict = classifier.predict(X_test_encoded2[:4000])\n",
        "x1 = np.asarray(X_test_encoded2[:4000])\n",
        "y1 = np.asarray(y_test[:4000])\n",
        "print(f\"Accuracy from the test data : {np.round(100 * classifier.score(x1, y1), 2)}%\")"
      ],
      "metadata": {
        "id": "_sq5DCXfjr6u",
        "colab": {
          "base_uri": "https://localhost:8080/",
          "height": 599
        },
        "outputId": "9e10e568-8da0-4c4c-e5d5-cfbf309cecb4"
      },
      "execution_count": null,
      "outputs": [
        {
          "output_type": "display_data",
          "data": {
            "text/plain": [
              "<Figure size 1200x600 with 1 Axes>"
            ],
            "image/png": "[encoded data removed]"
          },
          "metadata": {}
        },
        {
          "output_type": "stream",
          "name": "stdout",
          "text": [
            "Accuracy from the train data : 77.1%\n",
            "Accuracy from the test data : 76.38%\n"
          ]
        }
      ]
    },
    {
      "cell_type": "code",
      "source": [
        "y_predict = classifier.predict(X_test_encoded2)\n",
        "x1 = np.asarray(X_test_encoded2)\n",
        "y1 = np.asarray(y_test)\n",
        "print(f\"Accuracy from the test data : {np.round(100 * classifier.score(x1, y1), 2)}%\")"
      ],
      "metadata": {
        "colab": {
          "base_uri": "https://localhost:8080/"
        },
        "id": "HklsJFulMI8h",
        "outputId": "b3717d53-8d2a-4673-8da6-5e29bf79ea62"
      },
      "execution_count": null,
      "outputs": [
        {
          "output_type": "stream",
          "name": "stdout",
          "text": [
            "Accuracy from the test data : 76.4%\n"
          ]
        }
      ]
    },
    {
      "cell_type": "code",
      "source": [],
      "metadata": {
        "id": "PbsG4bzT2-jV"
      },
      "execution_count": null,
      "outputs": []
    }
  ],
  "metadata": {
    "colab": {
      "provenance": [],
      "include_colab_link": true
    },
    "kernelspec": {
      "display_name": "Python 3",
      "name": "python3"
    },
    "language_info": {
      "name": "python"
    }
  },
  "nbformat": 4,
  "nbformat_minor": 0
}